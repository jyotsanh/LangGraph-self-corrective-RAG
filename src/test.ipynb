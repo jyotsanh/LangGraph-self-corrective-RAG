{
 "cells": [
  {
   "cell_type": "code",
   "execution_count": 1,
   "metadata": {},
   "outputs": [
    {
     "name": "stderr",
     "output_type": "stream",
     "text": [
      "g:\\Github\\LangGraph-self-corrective-RAG\\venv\\lib\\site-packages\\tqdm\\auto.py:21: TqdmWarning: IProgress not found. Please update jupyter and ipywidgets. See https://ipywidgets.readthedocs.io/en/stable/user_install.html\n",
      "  from .autonotebook import tqdm as notebook_tqdm\n"
     ]
    },
    {
     "data": {
      "text/plain": [
       "RouteQuery(datasource='web_search')"
      ]
     },
     "execution_count": 1,
     "metadata": {},
     "output_type": "execute_result"
    }
   ],
   "source": [
    "from graphs.arch_nodes import query_analyser\n",
    "query_analyser(\"Temperature in Texas right now\")"
   ]
  },
  {
   "cell_type": "code",
   "execution_count": 1,
   "metadata": {},
   "outputs": [
    {
     "name": "stderr",
     "output_type": "stream",
     "text": [
      "g:\\Github\\LangGraph-self-corrective-RAG\\venv\\lib\\site-packages\\tqdm\\auto.py:21: TqdmWarning: IProgress not found. Please update jupyter and ipywidgets. See https://ipywidgets.readthedocs.io/en/stable/user_install.html\n",
      "  from .autonotebook import tqdm as notebook_tqdm\n"
     ]
    }
   ],
   "source": [
    "from core.state import MyState\n",
    "state = MyState(\n",
    "    messages=[\"What is Jyotsan Projects in AI?\"],\n",
    "    documents=[\"Japan Has many cartoon including: Perman, Doreamon, Power ranger, on of them is a perman\"],\n",
    "    relevance=[],\n",
    "    answer= \"\"\n",
    "                )"
   ]
  },
  {
   "cell_type": "code",
   "execution_count": 1,
   "metadata": {},
   "outputs": [
    {
     "name": "stderr",
     "output_type": "stream",
     "text": [
      "g:\\Github\\LangGraph-self-corrective-RAG\\venv\\lib\\site-packages\\tqdm\\auto.py:21: TqdmWarning: IProgress not found. Please update jupyter and ipywidgets. See https://ipywidgets.readthedocs.io/en/stable/user_install.html\n",
      "  from .autonotebook import tqdm as notebook_tqdm\n"
     ]
    }
   ],
   "source": []
  },
  {
   "cell_type": "code",
   "execution_count": 1,
   "metadata": {},
   "outputs": [
    {
     "name": "stderr",
     "output_type": "stream",
     "text": [
      "g:\\Github\\LangGraph-self-corrective-RAG\\venv\\lib\\site-packages\\tqdm\\auto.py:21: TqdmWarning: IProgress not found. Please update jupyter and ipywidgets. See https://ipywidgets.readthedocs.io/en/stable/user_install.html\n",
      "  from .autonotebook import tqdm as notebook_tqdm\n"
     ]
    },
    {
     "name": "stdout",
     "output_type": "stream",
     "text": [
      "going to vectorstore\n",
      "5\n",
      "document retrieved\n",
      "checking the relevance of the document\n",
      "\n",
      " ------\n",
      "\n",
      "Contact\n",
      "+9779824595613 (Mobile)\n",
      "hamaljyotsan@gmail.com\n",
      "www.linkedin.com/in/jyotsan-\n",
      "hamal-621317264 (LinkedIn)\n",
      "Top Skills\n",
      "Large Language Models (LLM)\n",
      "WebSocket\n",
      "FastAPI\n",
      "Certifications\n",
      "SQL (Intermediate) Certificate\n",
      "Problem solving (Basic)\n",
      "Machine Learning with Python\n",
      "Python (Basic)Large Language Models (LLM)\n",
      "WebSocket\n",
      "FastAPI\n",
      "Certifications\n",
      "SQL (Intermediate) Certificate\n",
      "Problem solving (Basic)\n",
      "Machine Learning with Python\n",
      "Python (Basic)\n",
      "CS50’s Introduction to Computer\n",
      "Science\n",
      "Jyotsan Hamal\n",
      "An aspiring AI Engineer\n",
      "Kathmandu, Bāgmatī, Nepal\n",
      "Summary\n",
      "I'm An aspiring AI Engineer who is currently studying Bachelor in\n",
      "Information Technology.\n",
      "ExperienceAn aspiring AI Engineer\n",
      "Kathmandu, Bāgmatī, Nepal\n",
      "Summary\n",
      "I'm An aspiring AI Engineer who is currently studying Bachelor in\n",
      "Information Technology.\n",
      "Experience\n",
      "Fusemachines\n",
      "AI Fellowship\n",
      "April 2024 - October 2024 (7 months)\n",
      "Kathmandu, Bāgmatī, Nepal\n",
      "Subiz Innovations\n",
      "Intern\n",
      "June 2023 - November 2023 (6 months)Kathmandu, Bāgmatī, Nepal\n",
      "Subiz Innovations\n",
      "Intern\n",
      "June 2023 - November 2023 (6 months)\n",
      "Kathmandu\n",
      "[Internship]\n",
      "Worked on\n",
      "- Data Extraction from web\n",
      "- OCR\n",
      "- Automating task using python\n",
      "- Data Cleaning\n",
      "Education\n",
      "Lincoln University College\n",
      "Bachelor's degree, Information Technology · (January 2021 - April 2025)\n",
      "\n",
      " ------\n",
      "\n",
      "\n",
      " {'messages': [HumanMessage(content='Tell me about Jyotsan Top Skills', additional_kwargs={}, response_metadata={}, id='1f126c69-fb43-46bf-b718-72f1d58af1fb')], 'documents': \"Contact\\n+9779824595613 (Mobile)\\nhamaljyotsan@gmail.com\\nwww.linkedin.com/in/jyotsan-\\nhamal-621317264 (LinkedIn)\\nTop Skills\\nLarge Language Models (LLM)\\nWebSocket\\nFastAPI\\nCertifications\\nSQL (Intermediate) Certificate\\nProblem solving (Basic)\\nMachine Learning with Python\\nPython (Basic)Large Language Models (LLM)\\nWebSocket\\nFastAPI\\nCertifications\\nSQL (Intermediate) Certificate\\nProblem solving (Basic)\\nMachine Learning with Python\\nPython (Basic)\\nCS50’s Introduction to Computer\\nScience\\nJyotsan Hamal\\nAn aspiring AI Engineer\\nKathmandu, Bāgmatī, Nepal\\nSummary\\nI'm An aspiring AI Engineer who is currently studying Bachelor in\\nInformation Technology.\\nExperienceAn aspiring AI Engineer\\nKathmandu, Bāgmatī, Nepal\\nSummary\\nI'm An aspiring AI Engineer who is currently studying Bachelor in\\nInformation Technology.\\nExperience\\nFusemachines\\nAI Fellowship\\nApril 2024\\xa0-\\xa0October 2024\\xa0(7 months)\\nKathmandu, Bāgmatī, Nepal\\nSubiz Innovations\\nIntern\\nJune 2023\\xa0-\\xa0November 2023\\xa0(6 months)Kathmandu, Bāgmatī, Nepal\\nSubiz Innovations\\nIntern\\nJune 2023\\xa0-\\xa0November 2023\\xa0(6 months)\\nKathmandu\\n[Internship]\\nWorked on\\n- Data Extraction from web\\n- OCR\\n- Automating task using python\\n- Data Cleaning\\nEducation\\nLincoln University College\\nBachelor's degree,\\xa0Information Technology\\xa0·\\xa0(January 2021\\xa0-\\xa0April 2025)\"} \n",
      "\n",
      "relevance score: yes\n",
      "Hey there! Jyotsan is skilled in Large Language Models (LLM), WebSocket, and FastAPI. He’s got a solid foundation in SQL and problem-solving, along with experience in Machine Learning with Python. Sounds like he’s really diving deep into the tech world!\n",
      "hehe\n"
     ]
    },
    {
     "data": {
      "text/plain": [
       "'Hey there! Jyotsan is skilled in Large Language Models (LLM), WebSocket, and FastAPI. He’s got a solid foundation in SQL and problem-solving, along with experience in Machine Learning with Python. Sounds like he’s really diving deep into the tech world!'"
      ]
     },
     "execution_count": 1,
     "metadata": {},
     "output_type": "execute_result"
    }
   ],
   "source": [
    "from graphs.graph_builder import build_graph\n",
    "graphs = build_graph()\n",
    "config = {\n",
    "    \"configurable\": {\n",
    "         \"thread_id\": \"1234\"\n",
    "    }\n",
    "   \n",
    "}\n",
    "res = graphs.invoke({\"messages\":\"Tell me about Jyotsan Top Skills\"},config)\n",
    "res['answer']"
   ]
  },
  {
   "cell_type": "code",
   "execution_count": 1,
   "metadata": {},
   "outputs": [
    {
     "name": "stderr",
     "output_type": "stream",
     "text": [
      "g:\\Github\\LangGraph-self-corrective-RAG\\venv\\lib\\site-packages\\tqdm\\auto.py:21: TqdmWarning: IProgress not found. Please update jupyter and ipywidgets. See https://ipywidgets.readthedocs.io/en/stable/user_install.html\n",
      "  from .autonotebook import tqdm as notebook_tqdm\n",
      "2025-01-28 09:26:29,416 - INFO - logger_config - Logging is now configured.\n"
     ]
    },
    {
     "name": "stdout",
     "output_type": "stream",
     "text": [
      "checking the relevance of the document\n",
      "\n",
      " ------\n",
      "\n",
      "['Japan Has many cartoon including: Perman, Doreamon, Power ranger, on of them is a perman']\n",
      "\n",
      " ------\n",
      "\n",
      "\n",
      " {'messages': ['Give me 2 japanese cartoons'], 'documents': ['Japan Has many cartoon including: Perman, Doreamon, Power ranger, on of them is a perman'], 'relevance': [], 'answer': ''} \n",
      "\n",
      "relevance score: yes\n"
     ]
    },
    {
     "data": {
      "text/plain": [
       "'yes'"
      ]
     },
     "execution_count": 1,
     "metadata": {},
     "output_type": "execute_result"
    }
   ],
   "source": [
    "from core.state import MyState\n",
    "state = MyState(\n",
    "    messages=[\"Give me 2 japanese cartoons\"],\n",
    "    documents=[\"Japan Has many cartoon including: Perman, Doreamon, Power ranger, on of them is a perman\"],\n",
    "    relevance=[],\n",
    "    answer= \"\"\n",
    "          )\n",
    "\n",
    "from graphs.graph_builder import check_relevance\n",
    "check_relevance(state,testing=True)"
   ]
  },
  {
   "cell_type": "code",
   "execution_count": 1,
   "metadata": {},
   "outputs": [
    {
     "name": "stderr",
     "output_type": "stream",
     "text": [
      "g:\\Github\\LangGraph-self-corrective-RAG\\venv\\Lib\\site-packages\\tqdm\\auto.py:21: TqdmWarning: IProgress not found. Please update jupyter and ipywidgets. See https://ipywidgets.readthedocs.io/en/stable/user_install.html\n",
      "  from .autonotebook import tqdm as notebook_tqdm\n",
      "2025-01-28 15:20:21,587 - INFO - logger_config - Logging is now configured.\n"
     ]
    },
    {
     "name": "stdout",
     "output_type": "stream",
     "text": [
      "going to query\n"
     ]
    },
    {
     "data": {
      "text/plain": [
       "'query'"
      ]
     },
     "execution_count": 1,
     "metadata": {},
     "output_type": "execute_result"
    }
   ],
   "source": [
    "from core.state import MyState\n",
    "state = MyState(\n",
    "    messages=[\"Hi\"],\n",
    "    documents=[\"Japan Has many cartoon including: Perman, Doreamon, Power ranger, on of them is a perman\"],\n",
    "    relevance=[],\n",
    "    answer= \"\"\n",
    "          )\n",
    "\n",
    "from graphs.graph_builder import query_analyser\n",
    "query_analyser(state,testing=True)"
   ]
  },
  {
   "cell_type": "code",
   "execution_count": 1,
   "metadata": {},
   "outputs": [
    {
     "name": "stderr",
     "output_type": "stream",
     "text": [
      "g:\\Github\\LangGraph-self-corrective-RAG\\venv\\Lib\\site-packages\\tqdm\\auto.py:21: TqdmWarning: IProgress not found. Please update jupyter and ipywidgets. See https://ipywidgets.readthedocs.io/en/stable/user_install.html\n",
      "  from .autonotebook import tqdm as notebook_tqdm\n"
     ]
    }
   ],
   "source": [
    "from libs import *\n"
   ]
  },
  {
   "cell_type": "code",
   "execution_count": 2,
   "metadata": {},
   "outputs": [
    {
     "data": {
      "text/plain": [
       "[Document(metadata={'source': './data/Profile.pdf', 'page': 0, 'page_label': '1'}, page_content=\"\\xa0 \\xa0\\nContact\\n+9779824595613 (Mobile)\\nhamaljyotsan@gmail.com\\nwww.linkedin.com/in/jyotsan-\\nhamal-621317264 (LinkedIn)\\nTop Skills\\nLarge Language Models (LLM)\\nWebSocket\\nFastAPI\\nCertifications\\nSQL (Intermediate) Certificate\\nProblem solving (Basic)\\nMachine Learning with Python\\nPython (Basic)\\nCS50’s Introduction to Computer\\nScience\\nJyotsan Hamal\\nAn aspiring AI Engineer\\nKathmandu, Bāgmatī, Nepal\\nSummary\\nI'm An aspiring AI Engineer who is currently studying Bachelor in\\nInformation Technology.\\nExperience\\nFusemachines\\nAI Fellowship\\nApril 2024\\xa0-\\xa0October 2024\\xa0(7 months)\\nKathmandu, Bāgmatī, Nepal\\nSubiz Innovations\\nIntern\\nJune 2023\\xa0-\\xa0November 2023\\xa0(6 months)\\nKathmandu\\n[Internship]\\nWorked on\\n- Data Extraction from web\\n- OCR\\n- Automating task using python\\n- Data Cleaning\\nEducation\\nLincoln University College\\nBachelor's degree,\\xa0Information Technology\\xa0·\\xa0(January 2021\\xa0-\\xa0April 2025)\\nHope international Academy\\nSLC,\\xa0Computer Science\\xa0·\\xa0(January 2019\\xa0-\\xa0September 2021)\\n\\xa0 Page 1 of 1\")]"
      ]
     },
     "execution_count": 2,
     "metadata": {},
     "output_type": "execute_result"
    }
   ],
   "source": [
    "_load_pdf('./data/Profile.pdf')"
   ]
  },
  {
   "cell_type": "code",
   "execution_count": 4,
   "metadata": {},
   "outputs": [
    {
     "data": {
      "text/plain": [
       "'Are you a Old customer or new customer ?'"
      ]
     },
     "execution_count": 4,
     "metadata": {},
     "output_type": "execute_result"
    }
   ],
   "source": [
    "from graphs.dummy_nodes import *\n",
    "from core.state import MyState\n",
    "state = MyState(\n",
    "    messages=[\"can you please tell me about packages name you have\"],\n",
    "    documents=[\"\"],\n",
    "    package_type=[],\n",
    "    package_name=[],\n",
    "    customer_motive=[],\n",
    "    customer_type='None',\n",
    "    answer= \"\"\n",
    "          )\n",
    "\n",
    "\n",
    "collection_info(state,testing=True)"
   ]
  },
  {
   "cell_type": "code",
   "execution_count": 2,
   "metadata": {},
   "outputs": [
    {
     "name": "stderr",
     "output_type": "stream",
     "text": [
      "2025-02-05 11:36:51,983 - INFO - graph_builder2 - [2025-02-05 11:36:51] [GRAPH] Starting graph construction...\n",
      "2025-02-05 11:36:51,985 - INFO - graph_builder2 - [2025-02-05 11:36:51] [GRAPH] Adding nodes to the graph...\n",
      "2025-02-05 11:36:51,986 - INFO - graph_builder2 - [2025-02-05 11:36:51] [GRAPH] Initializing chat memory and compiling graph...\n",
      "2025-02-05 11:36:51,988 - INFO - graph_builder2 - Graph Building.... **Sucessfull**\n",
      "2025-02-05 11:36:54,290 - INFO - collection_client_info - Query: I am a new customer  -> Routing to: new\n",
      "2025-02-05 11:36:57,056 - INFO - quert_analyser - Query: I am a new customer  -> Routing to: home\n"
     ]
    },
    {
     "ename": "InvalidUpdateError",
     "evalue": "Expected dict, got home\nFor troubleshooting, visit: https://python.langchain.com/docs/troubleshooting/errors/INVALID_GRAPH_NODE_RETURN_VALUE",
     "output_type": "error",
     "traceback": [
      "\u001b[0;31m---------------------------------------------------------------------------\u001b[0m",
      "\u001b[0;31mInvalidUpdateError\u001b[0m                        Traceback (most recent call last)",
      "Cell \u001b[0;32mIn[2], line 20\u001b[0m\n\u001b[1;32m     13\u001b[0m graphs \u001b[38;5;241m=\u001b[39m build_graph()\n\u001b[1;32m     14\u001b[0m config \u001b[38;5;241m=\u001b[39m {\n\u001b[1;32m     15\u001b[0m     \u001b[38;5;124m\"\u001b[39m\u001b[38;5;124mconfigurable\u001b[39m\u001b[38;5;124m\"\u001b[39m: {\n\u001b[1;32m     16\u001b[0m          \u001b[38;5;124m\"\u001b[39m\u001b[38;5;124mthread_id\u001b[39m\u001b[38;5;124m\"\u001b[39m: \u001b[38;5;124m\"\u001b[39m\u001b[38;5;124m1234\u001b[39m\u001b[38;5;124m\"\u001b[39m\n\u001b[1;32m     17\u001b[0m     }\n\u001b[1;32m     18\u001b[0m    \n\u001b[1;32m     19\u001b[0m }\n\u001b[0;32m---> 20\u001b[0m \u001b[43mgraphs\u001b[49m\u001b[38;5;241;43m.\u001b[39;49m\u001b[43minvoke\u001b[49m\u001b[43m(\u001b[49m\u001b[43mstate\u001b[49m\u001b[43m,\u001b[49m\u001b[43mconfig\u001b[49m\u001b[43m)\u001b[49m\n",
      "File \u001b[0;32m~/MyProject/LangGraph-self-corrective-RAG/venv/lib/python3.12/site-packages/langgraph/pregel/__init__.py:2069\u001b[0m, in \u001b[0;36mPregel.invoke\u001b[0;34m(self, input, config, stream_mode, output_keys, interrupt_before, interrupt_after, debug, **kwargs)\u001b[0m\n\u001b[1;32m   2067\u001b[0m \u001b[38;5;28;01melse\u001b[39;00m:\n\u001b[1;32m   2068\u001b[0m     chunks \u001b[38;5;241m=\u001b[39m []\n\u001b[0;32m-> 2069\u001b[0m \u001b[43m\u001b[49m\u001b[38;5;28;43;01mfor\u001b[39;49;00m\u001b[43m \u001b[49m\u001b[43mchunk\u001b[49m\u001b[43m \u001b[49m\u001b[38;5;129;43;01min\u001b[39;49;00m\u001b[43m \u001b[49m\u001b[38;5;28;43mself\u001b[39;49m\u001b[38;5;241;43m.\u001b[39;49m\u001b[43mstream\u001b[49m\u001b[43m(\u001b[49m\n\u001b[1;32m   2070\u001b[0m \u001b[43m    \u001b[49m\u001b[38;5;28;43minput\u001b[39;49m\u001b[43m,\u001b[49m\n\u001b[1;32m   2071\u001b[0m \u001b[43m    \u001b[49m\u001b[43mconfig\u001b[49m\u001b[43m,\u001b[49m\n\u001b[1;32m   2072\u001b[0m \u001b[43m    \u001b[49m\u001b[43mstream_mode\u001b[49m\u001b[38;5;241;43m=\u001b[39;49m\u001b[43mstream_mode\u001b[49m\u001b[43m,\u001b[49m\n\u001b[1;32m   2073\u001b[0m \u001b[43m    \u001b[49m\u001b[43moutput_keys\u001b[49m\u001b[38;5;241;43m=\u001b[39;49m\u001b[43moutput_keys\u001b[49m\u001b[43m,\u001b[49m\n\u001b[1;32m   2074\u001b[0m \u001b[43m    \u001b[49m\u001b[43minterrupt_before\u001b[49m\u001b[38;5;241;43m=\u001b[39;49m\u001b[43minterrupt_before\u001b[49m\u001b[43m,\u001b[49m\n\u001b[1;32m   2075\u001b[0m \u001b[43m    \u001b[49m\u001b[43minterrupt_after\u001b[49m\u001b[38;5;241;43m=\u001b[39;49m\u001b[43minterrupt_after\u001b[49m\u001b[43m,\u001b[49m\n\u001b[1;32m   2076\u001b[0m \u001b[43m    \u001b[49m\u001b[43mdebug\u001b[49m\u001b[38;5;241;43m=\u001b[39;49m\u001b[43mdebug\u001b[49m\u001b[43m,\u001b[49m\n\u001b[1;32m   2077\u001b[0m \u001b[43m    \u001b[49m\u001b[38;5;241;43m*\u001b[39;49m\u001b[38;5;241;43m*\u001b[39;49m\u001b[43mkwargs\u001b[49m\u001b[43m,\u001b[49m\n\u001b[1;32m   2078\u001b[0m \u001b[43m\u001b[49m\u001b[43m)\u001b[49m\u001b[43m:\u001b[49m\n\u001b[1;32m   2079\u001b[0m \u001b[43m    \u001b[49m\u001b[38;5;28;43;01mif\u001b[39;49;00m\u001b[43m \u001b[49m\u001b[43mstream_mode\u001b[49m\u001b[43m \u001b[49m\u001b[38;5;241;43m==\u001b[39;49m\u001b[43m \u001b[49m\u001b[38;5;124;43m\"\u001b[39;49m\u001b[38;5;124;43mvalues\u001b[39;49m\u001b[38;5;124;43m\"\u001b[39;49m\u001b[43m:\u001b[49m\n\u001b[1;32m   2080\u001b[0m \u001b[43m        \u001b[49m\u001b[43mlatest\u001b[49m\u001b[43m \u001b[49m\u001b[38;5;241;43m=\u001b[39;49m\u001b[43m \u001b[49m\u001b[43mchunk\u001b[49m\n",
      "File \u001b[0;32m~/MyProject/LangGraph-self-corrective-RAG/venv/lib/python3.12/site-packages/langgraph/pregel/__init__.py:1724\u001b[0m, in \u001b[0;36mPregel.stream\u001b[0;34m(self, input, config, stream_mode, output_keys, interrupt_before, interrupt_after, debug, subgraphs)\u001b[0m\n\u001b[1;32m   1718\u001b[0m     \u001b[38;5;66;03m# Similarly to Bulk Synchronous Parallel / Pregel model\u001b[39;00m\n\u001b[1;32m   1719\u001b[0m     \u001b[38;5;66;03m# computation proceeds in steps, while there are channel updates.\u001b[39;00m\n\u001b[1;32m   1720\u001b[0m     \u001b[38;5;66;03m# Channel updates from step N are only visible in step N+1\u001b[39;00m\n\u001b[1;32m   1721\u001b[0m     \u001b[38;5;66;03m# channels are guaranteed to be immutable for the duration of the step,\u001b[39;00m\n\u001b[1;32m   1722\u001b[0m     \u001b[38;5;66;03m# with channel updates applied only at the transition between steps.\u001b[39;00m\n\u001b[1;32m   1723\u001b[0m     \u001b[38;5;28;01mwhile\u001b[39;00m loop\u001b[38;5;241m.\u001b[39mtick(input_keys\u001b[38;5;241m=\u001b[39m\u001b[38;5;28mself\u001b[39m\u001b[38;5;241m.\u001b[39minput_channels):\n\u001b[0;32m-> 1724\u001b[0m \u001b[43m        \u001b[49m\u001b[38;5;28;43;01mfor\u001b[39;49;00m\u001b[43m \u001b[49m\u001b[43m_\u001b[49m\u001b[43m \u001b[49m\u001b[38;5;129;43;01min\u001b[39;49;00m\u001b[43m \u001b[49m\u001b[43mrunner\u001b[49m\u001b[38;5;241;43m.\u001b[39;49m\u001b[43mtick\u001b[49m\u001b[43m(\u001b[49m\n\u001b[1;32m   1725\u001b[0m \u001b[43m            \u001b[49m\u001b[43mloop\u001b[49m\u001b[38;5;241;43m.\u001b[39;49m\u001b[43mtasks\u001b[49m\u001b[38;5;241;43m.\u001b[39;49m\u001b[43mvalues\u001b[49m\u001b[43m(\u001b[49m\u001b[43m)\u001b[49m\u001b[43m,\u001b[49m\n\u001b[1;32m   1726\u001b[0m \u001b[43m            \u001b[49m\u001b[43mtimeout\u001b[49m\u001b[38;5;241;43m=\u001b[39;49m\u001b[38;5;28;43mself\u001b[39;49m\u001b[38;5;241;43m.\u001b[39;49m\u001b[43mstep_timeout\u001b[49m\u001b[43m,\u001b[49m\n\u001b[1;32m   1727\u001b[0m \u001b[43m            \u001b[49m\u001b[43mretry_policy\u001b[49m\u001b[38;5;241;43m=\u001b[39;49m\u001b[38;5;28;43mself\u001b[39;49m\u001b[38;5;241;43m.\u001b[39;49m\u001b[43mretry_policy\u001b[49m\u001b[43m,\u001b[49m\n\u001b[1;32m   1728\u001b[0m \u001b[43m            \u001b[49m\u001b[43mget_waiter\u001b[49m\u001b[38;5;241;43m=\u001b[39;49m\u001b[43mget_waiter\u001b[49m\u001b[43m,\u001b[49m\n\u001b[1;32m   1729\u001b[0m \u001b[43m        \u001b[49m\u001b[43m)\u001b[49m\u001b[43m:\u001b[49m\n\u001b[1;32m   1730\u001b[0m \u001b[43m            \u001b[49m\u001b[38;5;66;43;03m# emit output\u001b[39;49;00m\n\u001b[1;32m   1731\u001b[0m \u001b[43m            \u001b[49m\u001b[38;5;28;43;01myield from\u001b[39;49;00m\u001b[43m \u001b[49m\u001b[43moutput\u001b[49m\u001b[43m(\u001b[49m\u001b[43m)\u001b[49m\n\u001b[1;32m   1732\u001b[0m \u001b[38;5;66;03m# emit output\u001b[39;00m\n",
      "File \u001b[0;32m~/MyProject/LangGraph-self-corrective-RAG/venv/lib/python3.12/site-packages/langgraph/pregel/runner.py:230\u001b[0m, in \u001b[0;36mPregelRunner.tick\u001b[0;34m(self, tasks, reraise, timeout, retry_policy, get_waiter)\u001b[0m\n\u001b[1;32m    228\u001b[0m t \u001b[38;5;241m=\u001b[39m tasks[\u001b[38;5;241m0\u001b[39m]\n\u001b[1;32m    229\u001b[0m \u001b[38;5;28;01mtry\u001b[39;00m:\n\u001b[0;32m--> 230\u001b[0m     \u001b[43mrun_with_retry\u001b[49m\u001b[43m(\u001b[49m\n\u001b[1;32m    231\u001b[0m \u001b[43m        \u001b[49m\u001b[43mt\u001b[49m\u001b[43m,\u001b[49m\n\u001b[1;32m    232\u001b[0m \u001b[43m        \u001b[49m\u001b[43mretry_policy\u001b[49m\u001b[43m,\u001b[49m\n\u001b[1;32m    233\u001b[0m \u001b[43m        \u001b[49m\u001b[43mconfigurable\u001b[49m\u001b[38;5;241;43m=\u001b[39;49m\u001b[43m{\u001b[49m\n\u001b[1;32m    234\u001b[0m \u001b[43m            \u001b[49m\u001b[43mCONFIG_KEY_SEND\u001b[49m\u001b[43m:\u001b[49m\u001b[43m \u001b[49m\u001b[43mpartial\u001b[49m\u001b[43m(\u001b[49m\u001b[43mwriter\u001b[49m\u001b[43m,\u001b[49m\u001b[43m \u001b[49m\u001b[43mt\u001b[49m\u001b[43m)\u001b[49m\u001b[43m,\u001b[49m\n\u001b[1;32m    235\u001b[0m \u001b[43m            \u001b[49m\u001b[43mCONFIG_KEY_CALL\u001b[49m\u001b[43m:\u001b[49m\u001b[43m \u001b[49m\u001b[43mpartial\u001b[49m\u001b[43m(\u001b[49m\u001b[43mcall\u001b[49m\u001b[43m,\u001b[49m\u001b[43m \u001b[49m\u001b[43mt\u001b[49m\u001b[43m)\u001b[49m\u001b[43m,\u001b[49m\n\u001b[1;32m    236\u001b[0m \u001b[43m        \u001b[49m\u001b[43m}\u001b[49m\u001b[43m,\u001b[49m\n\u001b[1;32m    237\u001b[0m \u001b[43m    \u001b[49m\u001b[43m)\u001b[49m\n\u001b[1;32m    238\u001b[0m     \u001b[38;5;28mself\u001b[39m\u001b[38;5;241m.\u001b[39mcommit(t, \u001b[38;5;28;01mNone\u001b[39;00m)\n\u001b[1;32m    239\u001b[0m \u001b[38;5;28;01mexcept\u001b[39;00m \u001b[38;5;167;01mException\u001b[39;00m \u001b[38;5;28;01mas\u001b[39;00m exc:\n",
      "File \u001b[0;32m~/MyProject/LangGraph-self-corrective-RAG/venv/lib/python3.12/site-packages/langgraph/pregel/retry.py:40\u001b[0m, in \u001b[0;36mrun_with_retry\u001b[0;34m(task, retry_policy, configurable)\u001b[0m\n\u001b[1;32m     38\u001b[0m     task\u001b[38;5;241m.\u001b[39mwrites\u001b[38;5;241m.\u001b[39mclear()\n\u001b[1;32m     39\u001b[0m     \u001b[38;5;66;03m# run the task\u001b[39;00m\n\u001b[0;32m---> 40\u001b[0m     \u001b[38;5;28;01mreturn\u001b[39;00m \u001b[43mtask\u001b[49m\u001b[38;5;241;43m.\u001b[39;49m\u001b[43mproc\u001b[49m\u001b[38;5;241;43m.\u001b[39;49m\u001b[43minvoke\u001b[49m\u001b[43m(\u001b[49m\u001b[43mtask\u001b[49m\u001b[38;5;241;43m.\u001b[39;49m\u001b[43minput\u001b[49m\u001b[43m,\u001b[49m\u001b[43m \u001b[49m\u001b[43mconfig\u001b[49m\u001b[43m)\u001b[49m\n\u001b[1;32m     41\u001b[0m \u001b[38;5;28;01mexcept\u001b[39;00m ParentCommand \u001b[38;5;28;01mas\u001b[39;00m exc:\n\u001b[1;32m     42\u001b[0m     ns: \u001b[38;5;28mstr\u001b[39m \u001b[38;5;241m=\u001b[39m config[CONF][CONFIG_KEY_CHECKPOINT_NS]\n",
      "File \u001b[0;32m~/MyProject/LangGraph-self-corrective-RAG/venv/lib/python3.12/site-packages/langgraph/utils/runnable.py:497\u001b[0m, in \u001b[0;36mRunnableSeq.invoke\u001b[0;34m(self, input, config, **kwargs)\u001b[0m\n\u001b[1;32m    495\u001b[0m             \u001b[38;5;28minput\u001b[39m \u001b[38;5;241m=\u001b[39m step\u001b[38;5;241m.\u001b[39minvoke(\u001b[38;5;28minput\u001b[39m, config, \u001b[38;5;241m*\u001b[39m\u001b[38;5;241m*\u001b[39mkwargs)\n\u001b[1;32m    496\u001b[0m         \u001b[38;5;28;01melse\u001b[39;00m:\n\u001b[0;32m--> 497\u001b[0m             \u001b[38;5;28minput\u001b[39m \u001b[38;5;241m=\u001b[39m \u001b[43mstep\u001b[49m\u001b[38;5;241;43m.\u001b[39;49m\u001b[43minvoke\u001b[49m\u001b[43m(\u001b[49m\u001b[38;5;28;43minput\u001b[39;49m\u001b[43m,\u001b[49m\u001b[43m \u001b[49m\u001b[43mconfig\u001b[49m\u001b[43m)\u001b[49m\n\u001b[1;32m    498\u001b[0m \u001b[38;5;66;03m# finish the root run\u001b[39;00m\n\u001b[1;32m    499\u001b[0m \u001b[38;5;28;01mexcept\u001b[39;00m \u001b[38;5;167;01mBaseException\u001b[39;00m \u001b[38;5;28;01mas\u001b[39;00m e:\n",
      "File \u001b[0;32m~/MyProject/LangGraph-self-corrective-RAG/venv/lib/python3.12/site-packages/langgraph/utils/runnable.py:251\u001b[0m, in \u001b[0;36mRunnableCallable.invoke\u001b[0;34m(self, input, config, **kwargs)\u001b[0m\n\u001b[1;32m    249\u001b[0m     context \u001b[38;5;241m=\u001b[39m copy_context()\n\u001b[1;32m    250\u001b[0m     context\u001b[38;5;241m.\u001b[39mrun(_set_config_context, child_config)\n\u001b[0;32m--> 251\u001b[0m     ret \u001b[38;5;241m=\u001b[39m \u001b[43mcontext\u001b[49m\u001b[38;5;241;43m.\u001b[39;49m\u001b[43mrun\u001b[49m\u001b[43m(\u001b[49m\u001b[38;5;28;43mself\u001b[39;49m\u001b[38;5;241;43m.\u001b[39;49m\u001b[43mfunc\u001b[49m\u001b[43m,\u001b[49m\u001b[43m \u001b[49m\u001b[38;5;241;43m*\u001b[39;49m\u001b[43margs\u001b[49m\u001b[43m,\u001b[49m\u001b[43m \u001b[49m\u001b[38;5;241;43m*\u001b[39;49m\u001b[38;5;241;43m*\u001b[39;49m\u001b[43mkwargs\u001b[49m\u001b[43m)\u001b[49m\n\u001b[1;32m    252\u001b[0m \u001b[38;5;28;01mexcept\u001b[39;00m \u001b[38;5;167;01mBaseException\u001b[39;00m \u001b[38;5;28;01mas\u001b[39;00m e:\n\u001b[1;32m    253\u001b[0m     run_manager\u001b[38;5;241m.\u001b[39mon_chain_error(e)\n",
      "File \u001b[0;32m~/MyProject/LangGraph-self-corrective-RAG/venv/lib/python3.12/site-packages/langgraph/pregel/write.py:96\u001b[0m, in \u001b[0;36mChannelWrite._write\u001b[0;34m(self, input, config)\u001b[0m\n\u001b[1;32m     87\u001b[0m \u001b[38;5;28;01mdef\u001b[39;00m\u001b[38;5;250m \u001b[39m\u001b[38;5;21m_write\u001b[39m(\u001b[38;5;28mself\u001b[39m, \u001b[38;5;28minput\u001b[39m: Any, config: RunnableConfig) \u001b[38;5;241m-\u001b[39m\u001b[38;5;241m>\u001b[39m \u001b[38;5;28;01mNone\u001b[39;00m:\n\u001b[1;32m     88\u001b[0m     writes \u001b[38;5;241m=\u001b[39m [\n\u001b[1;32m     89\u001b[0m         ChannelWriteEntry(write\u001b[38;5;241m.\u001b[39mchannel, \u001b[38;5;28minput\u001b[39m, write\u001b[38;5;241m.\u001b[39mskip_none, write\u001b[38;5;241m.\u001b[39mmapper)\n\u001b[1;32m     90\u001b[0m         \u001b[38;5;28;01mif\u001b[39;00m \u001b[38;5;28misinstance\u001b[39m(write, ChannelWriteEntry) \u001b[38;5;129;01mand\u001b[39;00m write\u001b[38;5;241m.\u001b[39mvalue \u001b[38;5;129;01mis\u001b[39;00m PASSTHROUGH\n\u001b[0;32m   (...)\u001b[0m\n\u001b[1;32m     94\u001b[0m         \u001b[38;5;28;01mfor\u001b[39;00m write \u001b[38;5;129;01min\u001b[39;00m \u001b[38;5;28mself\u001b[39m\u001b[38;5;241m.\u001b[39mwrites\n\u001b[1;32m     95\u001b[0m     ]\n\u001b[0;32m---> 96\u001b[0m     \u001b[38;5;28;43mself\u001b[39;49m\u001b[38;5;241;43m.\u001b[39;49m\u001b[43mdo_write\u001b[49m\u001b[43m(\u001b[49m\n\u001b[1;32m     97\u001b[0m \u001b[43m        \u001b[49m\u001b[43mconfig\u001b[49m\u001b[43m,\u001b[49m\n\u001b[1;32m     98\u001b[0m \u001b[43m        \u001b[49m\u001b[43mwrites\u001b[49m\u001b[43m,\u001b[49m\n\u001b[1;32m     99\u001b[0m \u001b[43m        \u001b[49m\u001b[38;5;28;43mself\u001b[39;49m\u001b[38;5;241;43m.\u001b[39;49m\u001b[43mrequire_at_least_one_of\u001b[49m\u001b[43m \u001b[49m\u001b[38;5;28;43;01mif\u001b[39;49;00m\u001b[43m \u001b[49m\u001b[38;5;28;43minput\u001b[39;49m\u001b[43m \u001b[49m\u001b[38;5;129;43;01mis\u001b[39;49;00m\u001b[43m \u001b[49m\u001b[38;5;129;43;01mnot\u001b[39;49;00m\u001b[43m \u001b[49m\u001b[38;5;28;43;01mNone\u001b[39;49;00m\u001b[43m \u001b[49m\u001b[38;5;28;43;01melse\u001b[39;49;00m\u001b[43m \u001b[49m\u001b[38;5;28;43;01mNone\u001b[39;49;00m\u001b[43m,\u001b[49m\n\u001b[1;32m    100\u001b[0m \u001b[43m    \u001b[49m\u001b[43m)\u001b[49m\n\u001b[1;32m    101\u001b[0m     \u001b[38;5;28;01mreturn\u001b[39;00m \u001b[38;5;28minput\u001b[39m\n",
      "File \u001b[0;32m~/MyProject/LangGraph-self-corrective-RAG/venv/lib/python3.12/site-packages/langgraph/pregel/write.py:143\u001b[0m, in \u001b[0;36mChannelWrite.do_write\u001b[0;34m(config, writes, require_at_least_one_of)\u001b[0m\n\u001b[1;32m    141\u001b[0m     tuples\u001b[38;5;241m.\u001b[39mappend((TASKS, w))\n\u001b[1;32m    142\u001b[0m \u001b[38;5;28;01melif\u001b[39;00m \u001b[38;5;28misinstance\u001b[39m(w, ChannelWriteTupleEntry):\n\u001b[0;32m--> 143\u001b[0m     \u001b[38;5;28;01mif\u001b[39;00m ww \u001b[38;5;241m:=\u001b[39m \u001b[43mw\u001b[49m\u001b[38;5;241;43m.\u001b[39;49m\u001b[43mmapper\u001b[49m\u001b[43m(\u001b[49m\u001b[43mw\u001b[49m\u001b[38;5;241;43m.\u001b[39;49m\u001b[43mvalue\u001b[49m\u001b[43m)\u001b[49m:\n\u001b[1;32m    144\u001b[0m         tuples\u001b[38;5;241m.\u001b[39mextend(ww)\n\u001b[1;32m    145\u001b[0m \u001b[38;5;28;01melif\u001b[39;00m \u001b[38;5;28misinstance\u001b[39m(w, ChannelWriteEntry):\n",
      "File \u001b[0;32m~/MyProject/LangGraph-self-corrective-RAG/venv/lib/python3.12/site-packages/langgraph/graph/state.py:692\u001b[0m, in \u001b[0;36mCompiledStateGraph.attach_node.<locals>._get_updates\u001b[0;34m(input)\u001b[0m\n\u001b[1;32m    687\u001b[0m \u001b[38;5;28;01melse\u001b[39;00m:\n\u001b[1;32m    688\u001b[0m     msg \u001b[38;5;241m=\u001b[39m create_error_message(\n\u001b[1;32m    689\u001b[0m         message\u001b[38;5;241m=\u001b[39m\u001b[38;5;124mf\u001b[39m\u001b[38;5;124m\"\u001b[39m\u001b[38;5;124mExpected dict, got \u001b[39m\u001b[38;5;132;01m{\u001b[39;00m\u001b[38;5;28minput\u001b[39m\u001b[38;5;132;01m}\u001b[39;00m\u001b[38;5;124m\"\u001b[39m,\n\u001b[1;32m    690\u001b[0m         error_code\u001b[38;5;241m=\u001b[39mErrorCode\u001b[38;5;241m.\u001b[39mINVALID_GRAPH_NODE_RETURN_VALUE,\n\u001b[1;32m    691\u001b[0m     )\n\u001b[0;32m--> 692\u001b[0m     \u001b[38;5;28;01mraise\u001b[39;00m InvalidUpdateError(msg)\n",
      "\u001b[0;31mInvalidUpdateError\u001b[0m: Expected dict, got home\nFor troubleshooting, visit: https://python.langchain.com/docs/troubleshooting/errors/INVALID_GRAPH_NODE_RETURN_VALUE",
      "\u001b[0mDuring task with name 'query_analyser' and id 'e1d4f0cd-78f8-bb37-6a96-746d5b61872d'"
     ]
    }
   ],
   "source": [
    "from graphs.graph_builder2 import build_graph\n",
    "from core.state import MyState\n",
    "state = MyState(\n",
    "    messages=[\"I am a new customer \"],\n",
    "    documents=[\"\"],\n",
    "    package_type=[],\n",
    "    package_name=[],\n",
    "    customer_motive=[],\n",
    "    customer_type='None',\n",
    "    answer= \"\"\n",
    "          )\n",
    "\n",
    "graphs = build_graph()\n",
    "config = {\n",
    "    \"configurable\": {\n",
    "         \"thread_id\": \"1234\"\n",
    "    }\n",
    "   \n",
    "}\n",
    "graphs.invoke(state,config)"
   ]
  },
  {
   "cell_type": "code",
   "execution_count": null,
   "metadata": {},
   "outputs": [],
   "source": []
  }
 ],
 "metadata": {
  "kernelspec": {
   "display_name": "venv",
   "language": "python",
   "name": "python3"
  },
  "language_info": {
   "codemirror_mode": {
    "name": "ipython",
    "version": 3
   },
   "file_extension": ".py",
   "mimetype": "text/x-python",
   "name": "python",
   "nbconvert_exporter": "python",
   "pygments_lexer": "ipython3",
   "version": "3.12.3"
  }
 },
 "nbformat": 4,
 "nbformat_minor": 2
}
