{
 "cells": [
  {
   "cell_type": "code",
   "execution_count": 1,
   "metadata": {},
   "outputs": [
    {
     "name": "stderr",
     "output_type": "stream",
     "text": [
      "g:\\Github\\LangGraph-self-corrective-RAG\\venv\\lib\\site-packages\\tqdm\\auto.py:21: TqdmWarning: IProgress not found. Please update jupyter and ipywidgets. See https://ipywidgets.readthedocs.io/en/stable/user_install.html\n",
      "  from .autonotebook import tqdm as notebook_tqdm\n"
     ]
    },
    {
     "data": {
      "text/plain": [
       "RouteQuery(datasource='web_search')"
      ]
     },
     "execution_count": 1,
     "metadata": {},
     "output_type": "execute_result"
    }
   ],
   "source": [
    "from graphs.arch_nodes import query_analyser\n",
    "query_analyser(\"Temperature in Texas right now\")"
   ]
  },
  {
   "cell_type": "code",
   "execution_count": 1,
   "metadata": {},
   "outputs": [
    {
     "name": "stderr",
     "output_type": "stream",
     "text": [
      "g:\\Github\\LangGraph-self-corrective-RAG\\venv\\lib\\site-packages\\tqdm\\auto.py:21: TqdmWarning: IProgress not found. Please update jupyter and ipywidgets. See https://ipywidgets.readthedocs.io/en/stable/user_install.html\n",
      "  from .autonotebook import tqdm as notebook_tqdm\n"
     ]
    }
   ],
   "source": [
    "from core.state import MyState\n",
    "state = MyState(\n",
    "    messages=[\"What is Jyotsan Projects in AI?\"],\n",
    "    documents=[\"Japan Has many cartoon including: Perman, Doreamon, Power ranger, on of them is a perman\"],\n",
    "    relevance=[],\n",
    "    answer= \"\"\n",
    "                )"
   ]
  },
  {
   "cell_type": "code",
   "execution_count": 1,
   "metadata": {},
   "outputs": [
    {
     "name": "stderr",
     "output_type": "stream",
     "text": [
      "g:\\Github\\LangGraph-self-corrective-RAG\\venv\\lib\\site-packages\\tqdm\\auto.py:21: TqdmWarning: IProgress not found. Please update jupyter and ipywidgets. See https://ipywidgets.readthedocs.io/en/stable/user_install.html\n",
      "  from .autonotebook import tqdm as notebook_tqdm\n"
     ]
    }
   ],
   "source": []
  },
  {
   "cell_type": "code",
   "execution_count": 1,
   "metadata": {},
   "outputs": [
    {
     "name": "stderr",
     "output_type": "stream",
     "text": [
      "g:\\Github\\LangGraph-self-corrective-RAG\\venv\\lib\\site-packages\\tqdm\\auto.py:21: TqdmWarning: IProgress not found. Please update jupyter and ipywidgets. See https://ipywidgets.readthedocs.io/en/stable/user_install.html\n",
      "  from .autonotebook import tqdm as notebook_tqdm\n"
     ]
    },
    {
     "name": "stdout",
     "output_type": "stream",
     "text": [
      "going to vectorstore\n",
      "5\n",
      "document retrieved\n",
      "checking the relevance of the document\n",
      "\n",
      " ------\n",
      "\n",
      "Contact\n",
      "+9779824595613 (Mobile)\n",
      "hamaljyotsan@gmail.com\n",
      "www.linkedin.com/in/jyotsan-\n",
      "hamal-621317264 (LinkedIn)\n",
      "Top Skills\n",
      "Large Language Models (LLM)\n",
      "WebSocket\n",
      "FastAPI\n",
      "Certifications\n",
      "SQL (Intermediate) Certificate\n",
      "Problem solving (Basic)\n",
      "Machine Learning with Python\n",
      "Python (Basic)Large Language Models (LLM)\n",
      "WebSocket\n",
      "FastAPI\n",
      "Certifications\n",
      "SQL (Intermediate) Certificate\n",
      "Problem solving (Basic)\n",
      "Machine Learning with Python\n",
      "Python (Basic)\n",
      "CS50’s Introduction to Computer\n",
      "Science\n",
      "Jyotsan Hamal\n",
      "An aspiring AI Engineer\n",
      "Kathmandu, Bāgmatī, Nepal\n",
      "Summary\n",
      "I'm An aspiring AI Engineer who is currently studying Bachelor in\n",
      "Information Technology.\n",
      "ExperienceAn aspiring AI Engineer\n",
      "Kathmandu, Bāgmatī, Nepal\n",
      "Summary\n",
      "I'm An aspiring AI Engineer who is currently studying Bachelor in\n",
      "Information Technology.\n",
      "Experience\n",
      "Fusemachines\n",
      "AI Fellowship\n",
      "April 2024 - October 2024 (7 months)\n",
      "Kathmandu, Bāgmatī, Nepal\n",
      "Subiz Innovations\n",
      "Intern\n",
      "June 2023 - November 2023 (6 months)Kathmandu, Bāgmatī, Nepal\n",
      "Subiz Innovations\n",
      "Intern\n",
      "June 2023 - November 2023 (6 months)\n",
      "Kathmandu\n",
      "[Internship]\n",
      "Worked on\n",
      "- Data Extraction from web\n",
      "- OCR\n",
      "- Automating task using python\n",
      "- Data Cleaning\n",
      "Education\n",
      "Lincoln University College\n",
      "Bachelor's degree, Information Technology · (January 2021 - April 2025)\n",
      "\n",
      " ------\n",
      "\n",
      "\n",
      " {'messages': [HumanMessage(content='Tell me about Jyotsan Top Skills', additional_kwargs={}, response_metadata={}, id='1f126c69-fb43-46bf-b718-72f1d58af1fb')], 'documents': \"Contact\\n+9779824595613 (Mobile)\\nhamaljyotsan@gmail.com\\nwww.linkedin.com/in/jyotsan-\\nhamal-621317264 (LinkedIn)\\nTop Skills\\nLarge Language Models (LLM)\\nWebSocket\\nFastAPI\\nCertifications\\nSQL (Intermediate) Certificate\\nProblem solving (Basic)\\nMachine Learning with Python\\nPython (Basic)Large Language Models (LLM)\\nWebSocket\\nFastAPI\\nCertifications\\nSQL (Intermediate) Certificate\\nProblem solving (Basic)\\nMachine Learning with Python\\nPython (Basic)\\nCS50’s Introduction to Computer\\nScience\\nJyotsan Hamal\\nAn aspiring AI Engineer\\nKathmandu, Bāgmatī, Nepal\\nSummary\\nI'm An aspiring AI Engineer who is currently studying Bachelor in\\nInformation Technology.\\nExperienceAn aspiring AI Engineer\\nKathmandu, Bāgmatī, Nepal\\nSummary\\nI'm An aspiring AI Engineer who is currently studying Bachelor in\\nInformation Technology.\\nExperience\\nFusemachines\\nAI Fellowship\\nApril 2024\\xa0-\\xa0October 2024\\xa0(7 months)\\nKathmandu, Bāgmatī, Nepal\\nSubiz Innovations\\nIntern\\nJune 2023\\xa0-\\xa0November 2023\\xa0(6 months)Kathmandu, Bāgmatī, Nepal\\nSubiz Innovations\\nIntern\\nJune 2023\\xa0-\\xa0November 2023\\xa0(6 months)\\nKathmandu\\n[Internship]\\nWorked on\\n- Data Extraction from web\\n- OCR\\n- Automating task using python\\n- Data Cleaning\\nEducation\\nLincoln University College\\nBachelor's degree,\\xa0Information Technology\\xa0·\\xa0(January 2021\\xa0-\\xa0April 2025)\"} \n",
      "\n",
      "relevance score: yes\n",
      "Hey there! Jyotsan is skilled in Large Language Models (LLM), WebSocket, and FastAPI. He’s got a solid foundation in SQL and problem-solving, along with experience in Machine Learning with Python. Sounds like he’s really diving deep into the tech world!\n",
      "hehe\n"
     ]
    },
    {
     "data": {
      "text/plain": [
       "'Hey there! Jyotsan is skilled in Large Language Models (LLM), WebSocket, and FastAPI. He’s got a solid foundation in SQL and problem-solving, along with experience in Machine Learning with Python. Sounds like he’s really diving deep into the tech world!'"
      ]
     },
     "execution_count": 1,
     "metadata": {},
     "output_type": "execute_result"
    }
   ],
   "source": [
    "from graphs.graph_builder import build_graph\n",
    "graphs = build_graph()\n",
    "config = {\n",
    "    \"configurable\": {\n",
    "         \"thread_id\": \"1234\"\n",
    "    }\n",
    "   \n",
    "}\n",
    "res = graphs.invoke({\"messages\":\"Tell me about Jyotsan Top Skills\"},config)\n",
    "res['answer']"
   ]
  },
  {
   "cell_type": "code",
   "execution_count": 1,
   "metadata": {},
   "outputs": [
    {
     "name": "stderr",
     "output_type": "stream",
     "text": [
      "g:\\Github\\LangGraph-self-corrective-RAG\\venv\\lib\\site-packages\\tqdm\\auto.py:21: TqdmWarning: IProgress not found. Please update jupyter and ipywidgets. See https://ipywidgets.readthedocs.io/en/stable/user_install.html\n",
      "  from .autonotebook import tqdm as notebook_tqdm\n",
      "2025-01-28 09:26:29,416 - INFO - logger_config - Logging is now configured.\n"
     ]
    },
    {
     "name": "stdout",
     "output_type": "stream",
     "text": [
      "checking the relevance of the document\n",
      "\n",
      " ------\n",
      "\n",
      "['Japan Has many cartoon including: Perman, Doreamon, Power ranger, on of them is a perman']\n",
      "\n",
      " ------\n",
      "\n",
      "\n",
      " {'messages': ['Give me 2 japanese cartoons'], 'documents': ['Japan Has many cartoon including: Perman, Doreamon, Power ranger, on of them is a perman'], 'relevance': [], 'answer': ''} \n",
      "\n",
      "relevance score: yes\n"
     ]
    },
    {
     "data": {
      "text/plain": [
       "'yes'"
      ]
     },
     "execution_count": 1,
     "metadata": {},
     "output_type": "execute_result"
    }
   ],
   "source": [
    "from core.state import MyState\n",
    "state = MyState(\n",
    "    messages=[\"Give me 2 japanese cartoons\"],\n",
    "    documents=[\"Japan Has many cartoon including: Perman, Doreamon, Power ranger, on of them is a perman\"],\n",
    "    relevance=[],\n",
    "    answer= \"\"\n",
    "          )\n",
    "\n",
    "from graphs.graph_builder import check_relevance\n",
    "check_relevance(state,testing=True)"
   ]
  },
  {
   "cell_type": "code",
   "execution_count": 1,
   "metadata": {},
   "outputs": [
    {
     "name": "stderr",
     "output_type": "stream",
     "text": [
      "g:\\Github\\LangGraph-self-corrective-RAG\\venv\\Lib\\site-packages\\tqdm\\auto.py:21: TqdmWarning: IProgress not found. Please update jupyter and ipywidgets. See https://ipywidgets.readthedocs.io/en/stable/user_install.html\n",
      "  from .autonotebook import tqdm as notebook_tqdm\n",
      "2025-01-28 15:20:21,587 - INFO - logger_config - Logging is now configured.\n"
     ]
    },
    {
     "name": "stdout",
     "output_type": "stream",
     "text": [
      "going to query\n"
     ]
    },
    {
     "data": {
      "text/plain": [
       "'query'"
      ]
     },
     "execution_count": 1,
     "metadata": {},
     "output_type": "execute_result"
    }
   ],
   "source": [
    "from core.state import MyState\n",
    "state = MyState(\n",
    "    messages=[\"Hi\"],\n",
    "    documents=[\"Japan Has many cartoon including: Perman, Doreamon, Power ranger, on of them is a perman\"],\n",
    "    relevance=[],\n",
    "    answer= \"\"\n",
    "          )\n",
    "\n",
    "from graphs.graph_builder import query_analyser\n",
    "query_analyser(state,testing=True)"
   ]
  },
  {
   "cell_type": "code",
   "execution_count": null,
   "metadata": {},
   "outputs": [],
   "source": []
  }
 ],
 "metadata": {
  "kernelspec": {
   "display_name": "venv",
   "language": "python",
   "name": "python3"
  },
  "language_info": {
   "codemirror_mode": {
    "name": "ipython",
    "version": 3
   },
   "file_extension": ".py",
   "mimetype": "text/x-python",
   "name": "python",
   "nbconvert_exporter": "python",
   "pygments_lexer": "ipython3",
   "version": "3.11.8"
  }
 },
 "nbformat": 4,
 "nbformat_minor": 2
}
